{
 "cells": [
  {
   "cell_type": "code",
   "execution_count": 1,
   "metadata": {
    "collapsed": true
   },
   "outputs": [],
   "source": [
    "import pandas as pd\n",
    "import matplotlib.pyplot as plt\n",
    "%matplotlib inline"
   ]
  },
  {
   "cell_type": "code",
   "execution_count": 9,
   "metadata": {
    "collapsed": true
   },
   "outputs": [],
   "source": [
    "df = pd.read_csv(\"loans_test.csv\")"
   ]
  },
  {
   "cell_type": "code",
   "execution_count": 11,
   "metadata": {
    "collapsed": false
   },
   "outputs": [
    {
     "data": {
      "text/html": [
       "<div>\n",
       "<table border=\"1\" class=\"dataframe\">\n",
       "  <thead>\n",
       "    <tr style=\"text-align: right;\">\n",
       "      <th></th>\n",
       "      <th>id</th>\n",
       "      <th>status</th>\n",
       "      <th>sector</th>\n",
       "      <th>posted_date</th>\n",
       "      <th>funded_date</th>\n",
       "      <th>loan_amount</th>\n",
       "      <th>partner_id</th>\n",
       "      <th>bonus_credit_eligibility</th>\n",
       "      <th>lender_count</th>\n",
       "      <th>repayment_term</th>\n",
       "      <th>repayment_interval</th>\n",
       "      <th>num_tags</th>\n",
       "      <th>num_images</th>\n",
       "      <th>video_present</th>\n",
       "      <th>country_code</th>\n",
       "    </tr>\n",
       "  </thead>\n",
       "  <tbody>\n",
       "    <tr>\n",
       "      <th>0</th>\n",
       "      <td>1127</td>\n",
       "      <td>refunded</td>\n",
       "      <td>Transportation</td>\n",
       "      <td>2006-11-05T07:49:12Z</td>\n",
       "      <td>2006-11-05T18:17:29Z</td>\n",
       "      <td>1200</td>\n",
       "      <td>11</td>\n",
       "      <td>False</td>\n",
       "      <td>16</td>\n",
       "      <td>11</td>\n",
       "      <td>Monthly</td>\n",
       "      <td>0</td>\n",
       "      <td>1</td>\n",
       "      <td>False</td>\n",
       "      <td>UG</td>\n",
       "    </tr>\n",
       "    <tr>\n",
       "      <th>1</th>\n",
       "      <td>5223</td>\n",
       "      <td>defaulted</td>\n",
       "      <td>Agriculture</td>\n",
       "      <td>2007-03-06T21:31:11Z</td>\n",
       "      <td>2007-03-07T13:23:08Z</td>\n",
       "      <td>225</td>\n",
       "      <td>6</td>\n",
       "      <td>False</td>\n",
       "      <td>4</td>\n",
       "      <td>12</td>\n",
       "      <td>Monthly</td>\n",
       "      <td>0</td>\n",
       "      <td>1</td>\n",
       "      <td>False</td>\n",
       "      <td>KE</td>\n",
       "    </tr>\n",
       "    <tr>\n",
       "      <th>2</th>\n",
       "      <td>9319</td>\n",
       "      <td>paid</td>\n",
       "      <td>Food</td>\n",
       "      <td>2007-04-24T07:33:03Z</td>\n",
       "      <td>2007-04-24T22:40:22Z</td>\n",
       "      <td>600</td>\n",
       "      <td>9</td>\n",
       "      <td>True</td>\n",
       "      <td>16</td>\n",
       "      <td>15</td>\n",
       "      <td>Monthly</td>\n",
       "      <td>0</td>\n",
       "      <td>1</td>\n",
       "      <td>False</td>\n",
       "      <td>KH</td>\n",
       "    </tr>\n",
       "    <tr>\n",
       "      <th>3</th>\n",
       "      <td>13415</td>\n",
       "      <td>paid</td>\n",
       "      <td>Services</td>\n",
       "      <td>2007-07-03T14:45:26Z</td>\n",
       "      <td>2007-07-03T18:47:44Z</td>\n",
       "      <td>550</td>\n",
       "      <td>20</td>\n",
       "      <td>False</td>\n",
       "      <td>11</td>\n",
       "      <td>10</td>\n",
       "      <td>Monthly</td>\n",
       "      <td>0</td>\n",
       "      <td>1</td>\n",
       "      <td>False</td>\n",
       "      <td>NG</td>\n",
       "    </tr>\n",
       "    <tr>\n",
       "      <th>4</th>\n",
       "      <td>17511</td>\n",
       "      <td>paid</td>\n",
       "      <td>Services</td>\n",
       "      <td>2007-09-05T01:45:09Z</td>\n",
       "      <td>2007-09-05T03:46:48Z</td>\n",
       "      <td>1000</td>\n",
       "      <td>22</td>\n",
       "      <td>False</td>\n",
       "      <td>33</td>\n",
       "      <td>16</td>\n",
       "      <td>Monthly</td>\n",
       "      <td>0</td>\n",
       "      <td>1</td>\n",
       "      <td>False</td>\n",
       "      <td>TG</td>\n",
       "    </tr>\n",
       "  </tbody>\n",
       "</table>\n",
       "</div>"
      ],
      "text/plain": [
       "      id     status          sector           posted_date  \\\n",
       "0   1127   refunded  Transportation  2006-11-05T07:49:12Z   \n",
       "1   5223  defaulted     Agriculture  2007-03-06T21:31:11Z   \n",
       "2   9319       paid            Food  2007-04-24T07:33:03Z   \n",
       "3  13415       paid        Services  2007-07-03T14:45:26Z   \n",
       "4  17511       paid        Services  2007-09-05T01:45:09Z   \n",
       "\n",
       "            funded_date  loan_amount  partner_id bonus_credit_eligibility  \\\n",
       "0  2006-11-05T18:17:29Z         1200          11                    False   \n",
       "1  2007-03-07T13:23:08Z          225           6                    False   \n",
       "2  2007-04-24T22:40:22Z          600           9                     True   \n",
       "3  2007-07-03T18:47:44Z          550          20                    False   \n",
       "4  2007-09-05T03:46:48Z         1000          22                    False   \n",
       "\n",
       "   lender_count  repayment_term repayment_interval  num_tags  num_images  \\\n",
       "0            16              11            Monthly         0           1   \n",
       "1             4              12            Monthly         0           1   \n",
       "2            16              15            Monthly         0           1   \n",
       "3            11              10            Monthly         0           1   \n",
       "4            33              16            Monthly         0           1   \n",
       "\n",
       "  video_present country_code  \n",
       "0         False           UG  \n",
       "1         False           KE  \n",
       "2         False           KH  \n",
       "3         False           NG  \n",
       "4         False           TG  "
      ]
     },
     "execution_count": 11,
     "metadata": {},
     "output_type": "execute_result"
    }
   ],
   "source": [
    "df.head()"
   ]
  },
  {
   "cell_type": "code",
   "execution_count": 12,
   "metadata": {
    "collapsed": false
   },
   "outputs": [
    {
     "data": {
      "text/plain": [
       "(973998, 15)"
      ]
     },
     "execution_count": 12,
     "metadata": {},
     "output_type": "execute_result"
    }
   ],
   "source": [
    "df.shape"
   ]
  },
  {
   "cell_type": "code",
   "execution_count": 13,
   "metadata": {
    "collapsed": false
   },
   "outputs": [
    {
     "name": "stderr",
     "output_type": "stream",
     "text": [
      "C:\\Users\\Karthik\\Anaconda3\\lib\\site-packages\\ipykernel\\__main__.py:3: FutureWarning: sort is deprecated, use sort_values(inplace=True) for for INPLACE sorting\n",
      "  app.launch_new_instance()\n"
     ]
    },
    {
     "data": {
      "text/plain": [
       "partner_id\n",
       "145    73534\n",
       "133    26105\n",
       "71     21087\n",
       "123    20686\n",
       "81     20196\n",
       "dtype: int64"
      ]
     },
     "execution_count": 13,
     "metadata": {},
     "output_type": "execute_result"
    }
   ],
   "source": [
    "df_by_partner_id = df.groupby('partner_id')\n",
    "s_partners = df_by_partner_id.size()\n",
    "s_partners.sort(ascending=False)\n",
    "s_partners.head()"
   ]
  },
  {
   "cell_type": "code",
   "execution_count": 14,
   "metadata": {
    "collapsed": false
   },
   "outputs": [
    {
     "data": {
      "text/plain": [
       "408"
      ]
     },
     "execution_count": 14,
     "metadata": {},
     "output_type": "execute_result"
    }
   ],
   "source": [
    "len(s_partners)"
   ]
  },
  {
   "cell_type": "code",
   "execution_count": 15,
   "metadata": {
    "collapsed": false
   },
   "outputs": [
    {
     "data": {
      "text/plain": [
       "0.8670603019718727"
      ]
     },
     "execution_count": 15,
     "metadata": {},
     "output_type": "execute_result"
    }
   ],
   "source": [
    "s_partners[:100].sum()/s_partners.sum()"
   ]
  },
  {
   "cell_type": "code",
   "execution_count": 16,
   "metadata": {
    "collapsed": false
   },
   "outputs": [
    {
     "data": {
      "text/plain": [
       "<matplotlib.axes._subplots.AxesSubplot at 0x258c7278>"
      ]
     },
     "execution_count": 16,
     "metadata": {},
     "output_type": "execute_result"
    },
    {
     "data": {
      "image/png": "[encoded data removed]",
      "text/plain": [
       "<matplotlib.figure.Figure at 0x258c7dd8>"
      ]
     },
     "metadata": {},
     "output_type": "display_data"
    }
   ],
   "source": [
    "s_partners[100:].hist()"
   ]
  },
  {
   "cell_type": "code",
   "execution_count": 17,
   "metadata": {
    "collapsed": false
   },
   "outputs": [
    {
     "data": {
      "text/plain": [
       "bonus_credit_eligibility\n",
       "False    430948\n",
       "True     543050\n",
       "dtype: int64"
      ]
     },
     "execution_count": 17,
     "metadata": {},
     "output_type": "execute_result"
    }
   ],
   "source": [
    "df_by_bonus = df.groupby('bonus_credit_eligibility')\n",
    "s_bonus = df_by_bonus.size()\n",
    "s_bonus"
   ]
  },
  {
   "cell_type": "code",
   "execution_count": 18,
   "metadata": {
    "collapsed": false
   },
   "outputs": [
    {
     "data": {
      "text/plain": [
       "0.44245265390688687"
      ]
     },
     "execution_count": 18,
     "metadata": {},
     "output_type": "execute_result"
    }
   ],
   "source": [
    "s_bonus[0].sum()/s_bonus.sum()"
   ]
  },
  {
   "cell_type": "code",
   "execution_count": 19,
   "metadata": {
    "collapsed": false
   },
   "outputs": [
    {
     "name": "stderr",
     "output_type": "stream",
     "text": [
      "C:\\Users\\Karthik\\Anaconda3\\lib\\site-packages\\ipykernel\\__main__.py:1: FutureWarning: \n",
      "The default value for 'return_type' will change to 'axes' in a future release.\n",
      " To use the future behavior now, set return_type='axes'.\n",
      " To keep the previous behavior and silence this warning, set return_type='dict'.\n",
      "  if __name__ == '__main__':\n"
     ]
    },
    {
     "data": {
      "text/plain": [
       "{'boxes': [<matplotlib.lines.Line2D at 0xadc5b38>],\n",
       " 'caps': [<matplotlib.lines.Line2D at 0xadd3e10>,\n",
       "  <matplotlib.lines.Line2D at 0xadd7b70>],\n",
       " 'fliers': [<matplotlib.lines.Line2D at 0xadddb00>],\n",
       " 'means': [],\n",
       " 'medians': [<matplotlib.lines.Line2D at 0xadd7da0>],\n",
       " 'whiskers': [<matplotlib.lines.Line2D at 0xadc5ef0>,\n",
       "  <matplotlib.lines.Line2D at 0xadd3be0>]}"
      ]
     },
     "execution_count": 19,
     "metadata": {},
     "output_type": "execute_result"
    },
    {
     "data": {
      "image/png": "[encoded data removed]",
      "text/plain": [
       "<matplotlib.figure.Figure at 0x258dd6d8>"
      ]
     },
     "metadata": {},
     "output_type": "display_data"
    }
   ],
   "source": [
    "df.boxplot(\"lender_count\")"
   ]
  },
  {
   "cell_type": "code",
   "execution_count": 20,
   "metadata": {
    "collapsed": false
   },
   "outputs": [
    {
     "data": {
      "text/plain": [
       "(951307, 15)"
      ]
     },
     "execution_count": 20,
     "metadata": {},
     "output_type": "execute_result"
    }
   ],
   "source": [
    "df_small_lender_count = df[df.lender_count<100]\n",
    "df_small_lender_count.shape"
   ]
  },
  {
   "cell_type": "code",
   "execution_count": 40,
   "metadata": {
    "collapsed": false
   },
   "outputs": [
    {
     "name": "stderr",
     "output_type": "stream",
     "text": [
      "C:\\Users\\Karthik\\Anaconda3\\lib\\site-packages\\ipykernel\\__main__.py:1: FutureWarning: \n",
      "The default value for 'return_type' will change to 'axes' in a future release.\n",
      " To use the future behavior now, set return_type='axes'.\n",
      " To keep the previous behavior and silence this warning, set return_type='dict'.\n",
      "  if __name__ == '__main__':\n"
     ]
    },
    {
     "data": {
      "text/plain": [
       "(0, 60)"
      ]
     },
     "execution_count": 40,
     "metadata": {},
     "output_type": "execute_result"
    },
    {
     "data": {
      "image/png": "[encoded data removed]",
      "text/plain": [
       "<matplotlib.figure.Figure at 0xabcf240>"
      ]
     },
     "metadata": {},
     "output_type": "display_data"
    }
   ],
   "source": [
    "df_small_lender_count.boxplot(\"lender_count\")\n",
    "plt.ylim(0,60)"
   ]
  },
  {
   "cell_type": "code",
   "execution_count": 21,
   "metadata": {
    "collapsed": false
   },
   "outputs": [
    {
     "data": {
      "text/plain": [
       "array([ 1.])"
      ]
     },
     "execution_count": 21,
     "metadata": {},
     "output_type": "execute_result"
    }
   ],
   "source": [
    "df['num_images'].unique()"
   ]
  },
  {
   "cell_type": "code",
   "execution_count": 22,
   "metadata": {
    "collapsed": false
   },
   "outputs": [
    {
     "data": {
      "text/plain": [
       "array([False, True], dtype=object)"
      ]
     },
     "execution_count": 22,
     "metadata": {},
     "output_type": "execute_result"
    }
   ],
   "source": [
    "df['video_present'].unique()"
   ]
  },
  {
   "cell_type": "code",
   "execution_count": 26,
   "metadata": {
    "collapsed": false
   },
   "outputs": [
    {
     "data": {
      "text/plain": [
       "video_present\n",
       "False    973455\n",
       "True        543\n",
       "dtype: int64"
      ]
     },
     "execution_count": 26,
     "metadata": {},
     "output_type": "execute_result"
    }
   ],
   "source": [
    "df.groupby('video_present').size()"
   ]
  },
  {
   "cell_type": "code",
   "execution_count": 27,
   "metadata": {
    "collapsed": false
   },
   "outputs": [
    {
     "data": {
      "text/plain": [
       "array(['refunded', 'defaulted', 'paid', 'expired', 'inactive_expired',\n",
       "       'deleted', 'issue', 'inactive', 'in_repayment', 'reviewed', nan,\n",
       "       'funded'], dtype=object)"
      ]
     },
     "execution_count": 27,
     "metadata": {},
     "output_type": "execute_result"
    }
   ],
   "source": [
    "df['status'].unique()"
   ]
  },
  {
   "cell_type": "code",
   "execution_count": 28,
   "metadata": {
    "collapsed": false
   },
   "outputs": [
    {
     "data": {
      "text/plain": [
       "status\n",
       "defaulted            21245\n",
       "deleted               2843\n",
       "expired              32027\n",
       "funded                  62\n",
       "in_repayment        150118\n",
       "inactive              2445\n",
       "inactive_expired     12585\n",
       "issue                  247\n",
       "paid                746921\n",
       "refunded              5492\n",
       "reviewed                12\n",
       "dtype: int64"
      ]
     },
     "execution_count": 28,
     "metadata": {},
     "output_type": "execute_result"
    }
   ],
   "source": [
    "df.groupby('status').size()"
   ]
  }
 ],
 "metadata": {
  "kernelspec": {
   "display_name": "Python 3",
   "language": "python",
   "name": "python3"
  },
  "language_info": {
   "codemirror_mode": {
    "name": "ipython",
    "version": 3
   },
   "file_extension": ".py",
   "mimetype": "text/x-python",
   "name": "python",
   "nbconvert_exporter": "python",
   "pygments_lexer": "ipython3",
   "version": "3.4.4"
  }
 },
 "nbformat": 4,
 "nbformat_minor": 0
}
