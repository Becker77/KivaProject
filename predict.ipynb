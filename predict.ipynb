{
 "cells": [
  {
   "cell_type": "code",
   "execution_count": 1,
   "metadata": {
    "collapsed": true
   },
   "outputs": [],
   "source": [
    "import pandas as pd\n",
    "import numpy as np\n",
    "import matplotlib.pyplot as plt\n",
    "import sklearn.linear_model as sklm\n",
    "import sklearn.preprocessing as skp\n",
    "import sklearn.metrics as skmetric\n",
    "%matplotlib inline"
   ]
  },
  {
   "cell_type": "code",
   "execution_count": 2,
   "metadata": {
    "collapsed": false
   },
   "outputs": [
    {
     "name": "stderr",
     "output_type": "stream",
     "text": [
      "C:\\Users\\Karthik\\Anaconda3\\lib\\site-packages\\IPython\\core\\interactiveshell.py:2902: DtypeWarning: Columns (8,14,16) have mixed types. Specify dtype option on import or set low_memory=False.\n",
      "  interactivity=interactivity, compiler=compiler, result=result)\n"
     ]
    }
   ],
   "source": [
    "df_funded = pd.read_csv(\"fundedTraining.csv\")"
   ]
  },
  {
   "cell_type": "code",
   "execution_count": 3,
   "metadata": {
    "collapsed": false
   },
   "outputs": [
    {
     "data": {
      "text/html": [
       "<div>\n",
       "<table border=\"1\" class=\"dataframe\">\n",
       "  <thead>\n",
       "    <tr style=\"text-align: right;\">\n",
       "      <th></th>\n",
       "      <th>id</th>\n",
       "      <th>status</th>\n",
       "      <th>sector</th>\n",
       "      <th>posted_date</th>\n",
       "      <th>funded_date</th>\n",
       "      <th>loan_amount</th>\n",
       "      <th>partner_id</th>\n",
       "      <th>bonus_credit_eligibility</th>\n",
       "      <th>lender_count</th>\n",
       "      <th>repayment_term</th>\n",
       "      <th>repayment_interval</th>\n",
       "      <th>num_tags</th>\n",
       "      <th>num_images</th>\n",
       "      <th>video_present</th>\n",
       "      <th>country_code</th>\n",
       "      <th>funded_or_not</th>\n",
       "    </tr>\n",
       "  </thead>\n",
       "  <tbody>\n",
       "    <tr>\n",
       "      <th>1</th>\n",
       "      <td>1127</td>\n",
       "      <td>refunded</td>\n",
       "      <td>Transportation</td>\n",
       "      <td>2006-11-05 07:49:12</td>\n",
       "      <td>2006-11-05 18:17:29</td>\n",
       "      <td>1200</td>\n",
       "      <td>11</td>\n",
       "      <td>False</td>\n",
       "      <td>16</td>\n",
       "      <td>11</td>\n",
       "      <td>Monthly</td>\n",
       "      <td>0</td>\n",
       "      <td>0</td>\n",
       "      <td>True</td>\n",
       "      <td>UG</td>\n",
       "      <td>True</td>\n",
       "    </tr>\n",
       "    <tr>\n",
       "      <th>2</th>\n",
       "      <td>5223</td>\n",
       "      <td>defaulted</td>\n",
       "      <td>Agriculture</td>\n",
       "      <td>2007-03-06 21:31:11</td>\n",
       "      <td>2007-03-07 13:23:08</td>\n",
       "      <td>225</td>\n",
       "      <td>6</td>\n",
       "      <td>False</td>\n",
       "      <td>4</td>\n",
       "      <td>12</td>\n",
       "      <td>Monthly</td>\n",
       "      <td>0</td>\n",
       "      <td>0</td>\n",
       "      <td>True</td>\n",
       "      <td>KE</td>\n",
       "      <td>True</td>\n",
       "    </tr>\n",
       "    <tr>\n",
       "      <th>7</th>\n",
       "      <td>25704</td>\n",
       "      <td>paid</td>\n",
       "      <td>Retail</td>\n",
       "      <td>2007-12-04 18:50:09</td>\n",
       "      <td>2007-12-04 21:52:36</td>\n",
       "      <td>500</td>\n",
       "      <td>71</td>\n",
       "      <td>False</td>\n",
       "      <td>20</td>\n",
       "      <td>8</td>\n",
       "      <td>Monthly</td>\n",
       "      <td>0</td>\n",
       "      <td>0</td>\n",
       "      <td>True</td>\n",
       "      <td>PE</td>\n",
       "      <td>True</td>\n",
       "    </tr>\n",
       "    <tr>\n",
       "      <th>8</th>\n",
       "      <td>29800</td>\n",
       "      <td>paid</td>\n",
       "      <td>Agriculture</td>\n",
       "      <td>2008-01-02 04:00:26</td>\n",
       "      <td>2008-01-02 08:44:12</td>\n",
       "      <td>225</td>\n",
       "      <td>71</td>\n",
       "      <td>False</td>\n",
       "      <td>8</td>\n",
       "      <td>8</td>\n",
       "      <td>Monthly</td>\n",
       "      <td>0</td>\n",
       "      <td>0</td>\n",
       "      <td>True</td>\n",
       "      <td>PE</td>\n",
       "      <td>True</td>\n",
       "    </tr>\n",
       "    <tr>\n",
       "      <th>10</th>\n",
       "      <td>37992</td>\n",
       "      <td>paid</td>\n",
       "      <td>Services</td>\n",
       "      <td>2008-02-24 00:10:40</td>\n",
       "      <td>2008-02-24 16:12:20</td>\n",
       "      <td>800</td>\n",
       "      <td>22</td>\n",
       "      <td>False</td>\n",
       "      <td>23</td>\n",
       "      <td>16</td>\n",
       "      <td>Monthly</td>\n",
       "      <td>0</td>\n",
       "      <td>0</td>\n",
       "      <td>True</td>\n",
       "      <td>TG</td>\n",
       "      <td>True</td>\n",
       "    </tr>\n",
       "  </tbody>\n",
       "</table>\n",
       "</div>"
      ],
      "text/plain": [
       "       id     status          sector          posted_date  \\\n",
       "1    1127   refunded  Transportation  2006-11-05 07:49:12   \n",
       "2    5223  defaulted     Agriculture  2007-03-06 21:31:11   \n",
       "7   25704       paid          Retail  2007-12-04 18:50:09   \n",
       "8   29800       paid     Agriculture  2008-01-02 04:00:26   \n",
       "10  37992       paid        Services  2008-02-24 00:10:40   \n",
       "\n",
       "            funded_date  loan_amount  partner_id bonus_credit_eligibility  \\\n",
       "1   2006-11-05 18:17:29         1200          11                    False   \n",
       "2   2007-03-07 13:23:08          225           6                    False   \n",
       "7   2007-12-04 21:52:36          500          71                    False   \n",
       "8   2008-01-02 08:44:12          225          71                    False   \n",
       "10  2008-02-24 16:12:20          800          22                    False   \n",
       "\n",
       "    lender_count  repayment_term repayment_interval  num_tags  num_images  \\\n",
       "1             16              11            Monthly         0           0   \n",
       "2              4              12            Monthly         0           0   \n",
       "7             20               8            Monthly         0           0   \n",
       "8              8               8            Monthly         0           0   \n",
       "10            23              16            Monthly         0           0   \n",
       "\n",
       "   video_present country_code funded_or_not  \n",
       "1           True           UG          True  \n",
       "2           True           KE          True  \n",
       "7           True           PE          True  \n",
       "8           True           PE          True  \n",
       "10          True           TG          True  "
      ]
     },
     "execution_count": 3,
     "metadata": {},
     "output_type": "execute_result"
    }
   ],
   "source": [
    "df_funded.head()"
   ]
  },
  {
   "cell_type": "code",
   "execution_count": 4,
   "metadata": {
    "collapsed": false
   },
   "outputs": [
    {
     "name": "stderr",
     "output_type": "stream",
     "text": [
      "C:\\Users\\Karthik\\Anaconda3\\lib\\site-packages\\IPython\\core\\interactiveshell.py:2902: DtypeWarning: Columns (5,8,14,16) have mixed types. Specify dtype option on import or set low_memory=False.\n",
      "  interactivity=interactivity, compiler=compiler, result=result)\n"
     ]
    }
   ],
   "source": [
    "df_unfunded = pd.read_csv(\"NotfundedTraining.csv\")"
   ]
  },
  {
   "cell_type": "code",
   "execution_count": 5,
   "metadata": {
    "collapsed": false,
    "scrolled": true
   },
   "outputs": [
    {
     "data": {
      "text/html": [
       "<div>\n",
       "<table border=\"1\" class=\"dataframe\">\n",
       "  <thead>\n",
       "    <tr style=\"text-align: right;\">\n",
       "      <th></th>\n",
       "      <th>id</th>\n",
       "      <th>status</th>\n",
       "      <th>sector</th>\n",
       "      <th>posted_date</th>\n",
       "      <th>funded_date</th>\n",
       "      <th>loan_amount</th>\n",
       "      <th>partner_id</th>\n",
       "      <th>bonus_credit_eligibility</th>\n",
       "      <th>lender_count</th>\n",
       "      <th>repayment_term</th>\n",
       "      <th>repayment_interval</th>\n",
       "      <th>num_tags</th>\n",
       "      <th>num_images</th>\n",
       "      <th>video_present</th>\n",
       "      <th>country_code</th>\n",
       "      <th>funded_or_not</th>\n",
       "    </tr>\n",
       "  </thead>\n",
       "  <tbody>\n",
       "    <tr>\n",
       "      <th>36</th>\n",
       "      <td>144599</td>\n",
       "      <td>expired</td>\n",
       "      <td>Services</td>\n",
       "      <td>2009-11-01 07:00:35</td>\n",
       "      <td>NaN</td>\n",
       "      <td>2750</td>\n",
       "      <td>73</td>\n",
       "      <td>False</td>\n",
       "      <td>24</td>\n",
       "      <td>8</td>\n",
       "      <td>Monthly</td>\n",
       "      <td>0</td>\n",
       "      <td>0</td>\n",
       "      <td>True</td>\n",
       "      <td>BO</td>\n",
       "      <td>False</td>\n",
       "    </tr>\n",
       "    <tr>\n",
       "      <th>95</th>\n",
       "      <td>522626</td>\n",
       "      <td>deleted</td>\n",
       "      <td>Retail</td>\n",
       "      <td>NaN</td>\n",
       "      <td>NaN</td>\n",
       "      <td>575</td>\n",
       "      <td>222</td>\n",
       "      <td>True</td>\n",
       "      <td>0</td>\n",
       "      <td>14</td>\n",
       "      <td>Monthly</td>\n",
       "      <td>0</td>\n",
       "      <td>0</td>\n",
       "      <td>True</td>\n",
       "      <td>UG</td>\n",
       "      <td>False</td>\n",
       "    </tr>\n",
       "    <tr>\n",
       "      <th>96</th>\n",
       "      <td>563761</td>\n",
       "      <td>inactive_expired</td>\n",
       "      <td>Housing</td>\n",
       "      <td>NaN</td>\n",
       "      <td>NaN</td>\n",
       "      <td>2125</td>\n",
       "      <td>180</td>\n",
       "      <td>False</td>\n",
       "      <td>0</td>\n",
       "      <td>26</td>\n",
       "      <td>Monthly</td>\n",
       "      <td>0</td>\n",
       "      <td>0</td>\n",
       "      <td>True</td>\n",
       "      <td>MN</td>\n",
       "      <td>False</td>\n",
       "    </tr>\n",
       "    <tr>\n",
       "      <th>114</th>\n",
       "      <td>66694</td>\n",
       "      <td>deleted</td>\n",
       "      <td>Clothing</td>\n",
       "      <td>NaN</td>\n",
       "      <td>NaN</td>\n",
       "      <td>950</td>\n",
       "      <td>102</td>\n",
       "      <td>False</td>\n",
       "      <td>0</td>\n",
       "      <td>NaN</td>\n",
       "      <td>NaN</td>\n",
       "      <td>0</td>\n",
       "      <td>0</td>\n",
       "      <td>True</td>\n",
       "      <td>TZ</td>\n",
       "      <td>False</td>\n",
       "    </tr>\n",
       "    <tr>\n",
       "      <th>192</th>\n",
       "      <td>666369</td>\n",
       "      <td>inactive_expired</td>\n",
       "      <td>Retail</td>\n",
       "      <td>NaN</td>\n",
       "      <td>NaN</td>\n",
       "      <td>3900</td>\n",
       "      <td>105</td>\n",
       "      <td>True</td>\n",
       "      <td>0</td>\n",
       "      <td>8</td>\n",
       "      <td>At end of term</td>\n",
       "      <td>0</td>\n",
       "      <td>0</td>\n",
       "      <td>True</td>\n",
       "      <td>SN</td>\n",
       "      <td>False</td>\n",
       "    </tr>\n",
       "  </tbody>\n",
       "</table>\n",
       "</div>"
      ],
      "text/plain": [
       "         id            status    sector          posted_date funded_date  \\\n",
       "36   144599           expired  Services  2009-11-01 07:00:35         NaN   \n",
       "95   522626           deleted    Retail                  NaN         NaN   \n",
       "96   563761  inactive_expired   Housing                  NaN         NaN   \n",
       "114   66694           deleted  Clothing                  NaN         NaN   \n",
       "192  666369  inactive_expired    Retail                  NaN         NaN   \n",
       "\n",
       "     loan_amount  partner_id bonus_credit_eligibility  lender_count  \\\n",
       "36          2750          73                    False            24   \n",
       "95           575         222                     True             0   \n",
       "96          2125         180                    False             0   \n",
       "114          950         102                    False             0   \n",
       "192         3900         105                     True             0   \n",
       "\n",
       "     repayment_term repayment_interval  num_tags  num_images video_present  \\\n",
       "36                8            Monthly         0           0          True   \n",
       "95               14            Monthly         0           0          True   \n",
       "96               26            Monthly         0           0          True   \n",
       "114             NaN                NaN         0           0          True   \n",
       "192               8     At end of term         0           0          True   \n",
       "\n",
       "    country_code funded_or_not  \n",
       "36            BO         False  \n",
       "95            UG         False  \n",
       "96            MN         False  \n",
       "114           TZ         False  \n",
       "192           SN         False  "
      ]
     },
     "execution_count": 5,
     "metadata": {},
     "output_type": "execute_result"
    }
   ],
   "source": [
    "df_unfunded.head()"
   ]
  },
  {
   "cell_type": "code",
   "execution_count": 6,
   "metadata": {
    "collapsed": false
   },
   "outputs": [
    {
     "data": {
      "text/html": [
       "<div>\n",
       "<table border=\"1\" class=\"dataframe\">\n",
       "  <thead>\n",
       "    <tr style=\"text-align: right;\">\n",
       "      <th></th>\n",
       "      <th>id</th>\n",
       "      <th>status</th>\n",
       "      <th>sector</th>\n",
       "      <th>posted_date</th>\n",
       "      <th>funded_date</th>\n",
       "      <th>loan_amount</th>\n",
       "      <th>partner_id</th>\n",
       "      <th>bonus_credit_eligibility</th>\n",
       "      <th>lender_count</th>\n",
       "      <th>repayment_term</th>\n",
       "      <th>repayment_interval</th>\n",
       "      <th>num_tags</th>\n",
       "      <th>num_images</th>\n",
       "      <th>video_present</th>\n",
       "      <th>country_code</th>\n",
       "      <th>funded_or_not</th>\n",
       "    </tr>\n",
       "  </thead>\n",
       "  <tbody>\n",
       "    <tr>\n",
       "      <th>1</th>\n",
       "      <td>1127</td>\n",
       "      <td>refunded</td>\n",
       "      <td>Transportation</td>\n",
       "      <td>2006-11-05 07:49:12</td>\n",
       "      <td>2006-11-05 18:17:29</td>\n",
       "      <td>1200</td>\n",
       "      <td>11</td>\n",
       "      <td>False</td>\n",
       "      <td>16</td>\n",
       "      <td>11</td>\n",
       "      <td>Monthly</td>\n",
       "      <td>0</td>\n",
       "      <td>0</td>\n",
       "      <td>True</td>\n",
       "      <td>UG</td>\n",
       "      <td>True</td>\n",
       "    </tr>\n",
       "    <tr>\n",
       "      <th>2</th>\n",
       "      <td>5223</td>\n",
       "      <td>defaulted</td>\n",
       "      <td>Agriculture</td>\n",
       "      <td>2007-03-06 21:31:11</td>\n",
       "      <td>2007-03-07 13:23:08</td>\n",
       "      <td>225</td>\n",
       "      <td>6</td>\n",
       "      <td>False</td>\n",
       "      <td>4</td>\n",
       "      <td>12</td>\n",
       "      <td>Monthly</td>\n",
       "      <td>0</td>\n",
       "      <td>0</td>\n",
       "      <td>True</td>\n",
       "      <td>KE</td>\n",
       "      <td>True</td>\n",
       "    </tr>\n",
       "    <tr>\n",
       "      <th>7</th>\n",
       "      <td>25704</td>\n",
       "      <td>paid</td>\n",
       "      <td>Retail</td>\n",
       "      <td>2007-12-04 18:50:09</td>\n",
       "      <td>2007-12-04 21:52:36</td>\n",
       "      <td>500</td>\n",
       "      <td>71</td>\n",
       "      <td>False</td>\n",
       "      <td>20</td>\n",
       "      <td>8</td>\n",
       "      <td>Monthly</td>\n",
       "      <td>0</td>\n",
       "      <td>0</td>\n",
       "      <td>True</td>\n",
       "      <td>PE</td>\n",
       "      <td>True</td>\n",
       "    </tr>\n",
       "    <tr>\n",
       "      <th>8</th>\n",
       "      <td>29800</td>\n",
       "      <td>paid</td>\n",
       "      <td>Agriculture</td>\n",
       "      <td>2008-01-02 04:00:26</td>\n",
       "      <td>2008-01-02 08:44:12</td>\n",
       "      <td>225</td>\n",
       "      <td>71</td>\n",
       "      <td>False</td>\n",
       "      <td>8</td>\n",
       "      <td>8</td>\n",
       "      <td>Monthly</td>\n",
       "      <td>0</td>\n",
       "      <td>0</td>\n",
       "      <td>True</td>\n",
       "      <td>PE</td>\n",
       "      <td>True</td>\n",
       "    </tr>\n",
       "    <tr>\n",
       "      <th>10</th>\n",
       "      <td>37992</td>\n",
       "      <td>paid</td>\n",
       "      <td>Services</td>\n",
       "      <td>2008-02-24 00:10:40</td>\n",
       "      <td>2008-02-24 16:12:20</td>\n",
       "      <td>800</td>\n",
       "      <td>22</td>\n",
       "      <td>False</td>\n",
       "      <td>23</td>\n",
       "      <td>16</td>\n",
       "      <td>Monthly</td>\n",
       "      <td>0</td>\n",
       "      <td>0</td>\n",
       "      <td>True</td>\n",
       "      <td>TG</td>\n",
       "      <td>True</td>\n",
       "    </tr>\n",
       "  </tbody>\n",
       "</table>\n",
       "</div>"
      ],
      "text/plain": [
       "       id     status          sector          posted_date  \\\n",
       "1    1127   refunded  Transportation  2006-11-05 07:49:12   \n",
       "2    5223  defaulted     Agriculture  2007-03-06 21:31:11   \n",
       "7   25704       paid          Retail  2007-12-04 18:50:09   \n",
       "8   29800       paid     Agriculture  2008-01-02 04:00:26   \n",
       "10  37992       paid        Services  2008-02-24 00:10:40   \n",
       "\n",
       "            funded_date  loan_amount  partner_id bonus_credit_eligibility  \\\n",
       "1   2006-11-05 18:17:29         1200          11                    False   \n",
       "2   2007-03-07 13:23:08          225           6                    False   \n",
       "7   2007-12-04 21:52:36          500          71                    False   \n",
       "8   2008-01-02 08:44:12          225          71                    False   \n",
       "10  2008-02-24 16:12:20          800          22                    False   \n",
       "\n",
       "    lender_count  repayment_term repayment_interval  num_tags  num_images  \\\n",
       "1             16              11            Monthly         0           0   \n",
       "2              4              12            Monthly         0           0   \n",
       "7             20               8            Monthly         0           0   \n",
       "8              8               8            Monthly         0           0   \n",
       "10            23              16            Monthly         0           0   \n",
       "\n",
       "   video_present country_code funded_or_not  \n",
       "1           True           UG          True  \n",
       "2           True           KE          True  \n",
       "7           True           PE          True  \n",
       "8           True           PE          True  \n",
       "10          True           TG          True  "
      ]
     },
     "execution_count": 6,
     "metadata": {},
     "output_type": "execute_result"
    }
   ],
   "source": [
    "df_all = df_funded.append(df_unfunded)\n",
    "df_all.head()"
   ]
  },
  {
   "cell_type": "code",
   "execution_count": 8,
   "metadata": {
    "collapsed": false
   },
   "outputs": [],
   "source": [
    "import math\n",
    "df_all['is_unfunded'] = ~df_all['funded_or_not'].astype(bool) * 1\n",
    "df = df_all[['sector', 'loan_amount', 'repayment_term', 'num_tags', 'video_present', 'is_unfunded']].dropna()\n",
    "# df['loan_amount'] = skp.scale(df['loan_amount'])\n",
    "df['loan_amount'] = df['loan_amount'].apply(math.log)"
   ]
  },
  {
   "cell_type": "code",
   "execution_count": 10,
   "metadata": {
    "collapsed": false
   },
   "outputs": [
    {
     "data": {
      "text/html": [
       "<div>\n",
       "<table border=\"1\" class=\"dataframe\">\n",
       "  <thead>\n",
       "    <tr style=\"text-align: right;\">\n",
       "      <th></th>\n",
       "      <th>sector</th>\n",
       "      <th>loan_amount</th>\n",
       "      <th>repayment_term</th>\n",
       "      <th>num_tags</th>\n",
       "      <th>video_present</th>\n",
       "      <th>is_unfunded</th>\n",
       "    </tr>\n",
       "  </thead>\n",
       "  <tbody>\n",
       "    <tr>\n",
       "      <th>1</th>\n",
       "      <td>Transportation</td>\n",
       "      <td>7.090077</td>\n",
       "      <td>11</td>\n",
       "      <td>0</td>\n",
       "      <td>True</td>\n",
       "      <td>0</td>\n",
       "    </tr>\n",
       "    <tr>\n",
       "      <th>2</th>\n",
       "      <td>Agriculture</td>\n",
       "      <td>5.416100</td>\n",
       "      <td>12</td>\n",
       "      <td>0</td>\n",
       "      <td>True</td>\n",
       "      <td>0</td>\n",
       "    </tr>\n",
       "    <tr>\n",
       "      <th>7</th>\n",
       "      <td>Retail</td>\n",
       "      <td>6.214608</td>\n",
       "      <td>8</td>\n",
       "      <td>0</td>\n",
       "      <td>True</td>\n",
       "      <td>0</td>\n",
       "    </tr>\n",
       "    <tr>\n",
       "      <th>8</th>\n",
       "      <td>Agriculture</td>\n",
       "      <td>5.416100</td>\n",
       "      <td>8</td>\n",
       "      <td>0</td>\n",
       "      <td>True</td>\n",
       "      <td>0</td>\n",
       "    </tr>\n",
       "    <tr>\n",
       "      <th>10</th>\n",
       "      <td>Services</td>\n",
       "      <td>6.684612</td>\n",
       "      <td>16</td>\n",
       "      <td>0</td>\n",
       "      <td>True</td>\n",
       "      <td>0</td>\n",
       "    </tr>\n",
       "  </tbody>\n",
       "</table>\n",
       "</div>"
      ],
      "text/plain": [
       "            sector  loan_amount  repayment_term  num_tags video_present  \\\n",
       "1   Transportation     7.090077              11         0          True   \n",
       "2      Agriculture     5.416100              12         0          True   \n",
       "7           Retail     6.214608               8         0          True   \n",
       "8      Agriculture     5.416100               8         0          True   \n",
       "10        Services     6.684612              16         0          True   \n",
       "\n",
       "    is_unfunded  \n",
       "1             0  \n",
       "2             0  \n",
       "7             0  \n",
       "8             0  \n",
       "10            0  "
      ]
     },
     "execution_count": 10,
     "metadata": {},
     "output_type": "execute_result"
    }
   ],
   "source": [
    "df.head()"
   ]
  },
  {
   "cell_type": "code",
   "execution_count": 11,
   "metadata": {
    "collapsed": false
   },
   "outputs": [],
   "source": [
    "X_train = df[['sector', 'loan_amount', 'repayment_term', 'num_tags', 'video_present']]\n",
    "y_train = df['is_unfunded']"
   ]
  },
  {
   "cell_type": "markdown",
   "metadata": {},
   "source": [
    "### Responsible variable: Is_Unfunded"
   ]
  },
  {
   "cell_type": "markdown",
   "metadata": {},
   "source": [
    "### Predictor variables: Sector, Loan amount, Repayment Term, Num Tags, Video Present"
   ]
  },
  {
   "cell_type": "code",
   "execution_count": 12,
   "metadata": {
    "collapsed": false,
    "scrolled": true
   },
   "outputs": [
    {
     "data": {
      "text/plain": [
       "(680096, 19)"
      ]
     },
     "execution_count": 12,
     "metadata": {},
     "output_type": "execute_result"
    }
   ],
   "source": [
    "X_train = pd.get_dummies(X_train)\n",
    "X_train.shape"
   ]
  },
  {
   "cell_type": "code",
   "execution_count": 13,
   "metadata": {
    "collapsed": false
   },
   "outputs": [
    {
     "name": "stderr",
     "output_type": "stream",
     "text": [
      "C:\\Users\\Karthik\\Anaconda3\\lib\\site-packages\\sklearn\\utils\\validation.py:420: DataConversionWarning: Data with input dtype int64 was converted to float64 by the scale function.\n",
      "  warnings.warn(msg, DataConversionWarning)\n"
     ]
    }
   ],
   "source": [
    "df_test_funded = pd.read_csv(\"fundedTest.csv\")\n",
    "df_test_unfunded = pd.read_csv(\"NotfundedTest.csv\")\n",
    "df_test = df_test_funded.append(df_test_unfunded)\n",
    "df_test['is_unfunded'] = ~df_test['funded_or_not'].astype(bool) * 1\n",
    "df_test = df_test[['sector', 'loan_amount', 'repayment_term', 'num_tags', 'video_present', 'is_unfunded']].dropna()\n",
    "df_test['loan_amount'] = skp.scale(df_test['loan_amount'])"
   ]
  },
  {
   "cell_type": "code",
   "execution_count": 14,
   "metadata": {
    "collapsed": false
   },
   "outputs": [],
   "source": [
    "X_test = df_test[['sector', 'loan_amount', 'repayment_term', 'num_tags', 'video_present']]\n",
    "y_test = df_test['is_unfunded']\n",
    "X_test = pd.get_dummies(X_test)"
   ]
  },
  {
   "cell_type": "code",
   "execution_count": 15,
   "metadata": {
    "collapsed": false,
    "scrolled": true
   },
   "outputs": [
    {
     "data": {
      "text/plain": [
       "LogisticRegression(C=1.0, class_weight=None, dual=False, fit_intercept=True,\n",
       "          intercept_scaling=1, max_iter=100, multi_class='ovr', n_jobs=1,\n",
       "          penalty='l2', random_state=None, solver='liblinear', tol=0.0001,\n",
       "          verbose=0, warm_start=False)"
      ]
     },
     "execution_count": 15,
     "metadata": {},
     "output_type": "execute_result"
    }
   ],
   "source": [
    "model = sklm.LogisticRegression()\n",
    "model.fit(X_train, y_train)"
   ]
  },
  {
   "cell_type": "code",
   "execution_count": 16,
   "metadata": {
    "collapsed": false
   },
   "outputs": [
    {
     "data": {
      "text/plain": [
       "array([0, 0, 0, ..., 0, 0, 0], dtype=int32)"
      ]
     },
     "execution_count": 16,
     "metadata": {},
     "output_type": "execute_result"
    }
   ],
   "source": [
    "pred = model.predict(X_test)\n",
    "pred"
   ]
  },
  {
   "cell_type": "code",
   "execution_count": 17,
   "metadata": {
    "collapsed": false
   },
   "outputs": [
    {
     "data": {
      "text/plain": [
       "290542"
      ]
     },
     "execution_count": 17,
     "metadata": {},
     "output_type": "execute_result"
    }
   ],
   "source": [
    "len(pred[pred==0])"
   ]
  },
  {
   "cell_type": "code",
   "execution_count": 18,
   "metadata": {
    "collapsed": false
   },
   "outputs": [
    {
     "data": {
      "text/plain": [
       "1166"
      ]
     },
     "execution_count": 18,
     "metadata": {},
     "output_type": "execute_result"
    }
   ],
   "source": [
    "len(pred[pred==1])"
   ]
  },
  {
   "cell_type": "code",
   "execution_count": 19,
   "metadata": {
    "collapsed": false
   },
   "outputs": [
    {
     "data": {
      "text/plain": [
       "277185"
      ]
     },
     "execution_count": 19,
     "metadata": {},
     "output_type": "execute_result"
    }
   ],
   "source": [
    "len(y_test[y_test==0])"
   ]
  },
  {
   "cell_type": "code",
   "execution_count": 20,
   "metadata": {
    "collapsed": false
   },
   "outputs": [
    {
     "data": {
      "text/plain": [
       "14523"
      ]
     },
     "execution_count": 20,
     "metadata": {},
     "output_type": "execute_result"
    }
   ],
   "source": [
    "len(y_test[y_test==1])"
   ]
  },
  {
   "cell_type": "code",
   "execution_count": 21,
   "metadata": {
    "collapsed": true
   },
   "outputs": [],
   "source": [
    "pred_zero_values = y_test[pred==0]"
   ]
  },
  {
   "cell_type": "code",
   "execution_count": 22,
   "metadata": {
    "collapsed": false
   },
   "outputs": [
    {
     "data": {
      "text/plain": [
       "276178"
      ]
     },
     "execution_count": 22,
     "metadata": {},
     "output_type": "execute_result"
    }
   ],
   "source": [
    "len(pred_zero_values[pred_zero_values==0])"
   ]
  },
  {
   "cell_type": "code",
   "execution_count": 23,
   "metadata": {
    "collapsed": false
   },
   "outputs": [
    {
     "data": {
      "text/plain": [
       "14364"
      ]
     },
     "execution_count": 23,
     "metadata": {},
     "output_type": "execute_result"
    }
   ],
   "source": [
    "len(pred_zero_values[pred_zero_values==1])"
   ]
  },
  {
   "cell_type": "code",
   "execution_count": 24,
   "metadata": {
    "collapsed": true
   },
   "outputs": [],
   "source": [
    "pred_one_values = y_test[pred==1]"
   ]
  },
  {
   "cell_type": "code",
   "execution_count": 25,
   "metadata": {
    "collapsed": false
   },
   "outputs": [
    {
     "data": {
      "text/plain": [
       "1007"
      ]
     },
     "execution_count": 25,
     "metadata": {},
     "output_type": "execute_result"
    }
   ],
   "source": [
    "len(pred_one_values[pred_one_values==0])"
   ]
  },
  {
   "cell_type": "code",
   "execution_count": 26,
   "metadata": {
    "collapsed": false
   },
   "outputs": [
    {
     "data": {
      "text/plain": [
       "159"
      ]
     },
     "execution_count": 26,
     "metadata": {},
     "output_type": "execute_result"
    }
   ],
   "source": [
    "len(pred_one_values[pred_one_values==1])"
   ]
  },
  {
   "cell_type": "code",
   "execution_count": 27,
   "metadata": {
    "collapsed": true
   },
   "outputs": [],
   "source": [
    "pred_train = model.predict(X_train)"
   ]
  },
  {
   "cell_type": "code",
   "execution_count": 28,
   "metadata": {
    "collapsed": false
   },
   "outputs": [
    {
     "data": {
      "text/plain": [
       "679708"
      ]
     },
     "execution_count": 28,
     "metadata": {},
     "output_type": "execute_result"
    }
   ],
   "source": [
    "len(pred_train[pred_train==0])"
   ]
  },
  {
   "cell_type": "code",
   "execution_count": 29,
   "metadata": {
    "collapsed": false
   },
   "outputs": [
    {
     "data": {
      "text/plain": [
       "388"
      ]
     },
     "execution_count": 29,
     "metadata": {},
     "output_type": "execute_result"
    }
   ],
   "source": [
    "len(pred_train[pred_train==1])"
   ]
  },
  {
   "cell_type": "code",
   "execution_count": 30,
   "metadata": {
    "collapsed": false
   },
   "outputs": [
    {
     "data": {
      "text/plain": [
       "646883"
      ]
     },
     "execution_count": 30,
     "metadata": {},
     "output_type": "execute_result"
    }
   ],
   "source": [
    "len(y_train[y_train==0])"
   ]
  },
  {
   "cell_type": "code",
   "execution_count": 31,
   "metadata": {
    "collapsed": false
   },
   "outputs": [
    {
     "data": {
      "text/plain": [
       "33213"
      ]
     },
     "execution_count": 31,
     "metadata": {},
     "output_type": "execute_result"
    }
   ],
   "source": [
    "len(y_train[y_train==1])"
   ]
  },
  {
   "cell_type": "code",
   "execution_count": 32,
   "metadata": {
    "collapsed": false
   },
   "outputs": [],
   "source": [
    "predicted_zeroes = y_train[pred_train==0]"
   ]
  },
  {
   "cell_type": "code",
   "execution_count": 33,
   "metadata": {
    "collapsed": false
   },
   "outputs": [
    {
     "data": {
      "text/plain": [
       "646520"
      ]
     },
     "execution_count": 33,
     "metadata": {},
     "output_type": "execute_result"
    }
   ],
   "source": [
    "len(predicted_zeroes[predicted_zeroes==0])"
   ]
  },
  {
   "cell_type": "code",
   "execution_count": 34,
   "metadata": {
    "collapsed": false
   },
   "outputs": [
    {
     "data": {
      "text/plain": [
       "33188"
      ]
     },
     "execution_count": 34,
     "metadata": {},
     "output_type": "execute_result"
    }
   ],
   "source": [
    "len(predicted_zeroes[predicted_zeroes==1])"
   ]
  },
  {
   "cell_type": "code",
   "execution_count": 35,
   "metadata": {
    "collapsed": true
   },
   "outputs": [],
   "source": [
    "predicted_ones = y_train[pred_train==1]"
   ]
  },
  {
   "cell_type": "code",
   "execution_count": 36,
   "metadata": {
    "collapsed": false
   },
   "outputs": [
    {
     "data": {
      "text/plain": [
       "363"
      ]
     },
     "execution_count": 36,
     "metadata": {},
     "output_type": "execute_result"
    }
   ],
   "source": [
    "len(predicted_ones[predicted_ones==0])"
   ]
  },
  {
   "cell_type": "code",
   "execution_count": 37,
   "metadata": {
    "collapsed": false
   },
   "outputs": [
    {
     "data": {
      "text/plain": [
       "25"
      ]
     },
     "execution_count": 37,
     "metadata": {},
     "output_type": "execute_result"
    }
   ],
   "source": [
    "len(predicted_ones[predicted_ones==1])"
   ]
  },
  {
   "cell_type": "code",
   "execution_count": 38,
   "metadata": {
    "collapsed": false
   },
   "outputs": [
    {
     "data": {
      "text/plain": [
       "0.94730689593703288"
      ]
     },
     "execution_count": 38,
     "metadata": {},
     "output_type": "execute_result"
    }
   ],
   "source": [
    "skmetric.accuracy_score(y_test, model.predict(X_test))"
   ]
  },
  {
   "cell_type": "code",
   "execution_count": 39,
   "metadata": {
    "collapsed": false
   },
   "outputs": [],
   "source": [
    "a = len(y_test[y_test==0])"
   ]
  },
  {
   "cell_type": "code",
   "execution_count": 40,
   "metadata": {
    "collapsed": false
   },
   "outputs": [],
   "source": [
    "b = len(y_test[y_test==1])"
   ]
  },
  {
   "cell_type": "code",
   "execution_count": 41,
   "metadata": {
    "collapsed": false
   },
   "outputs": [
    {
     "data": {
      "text/plain": [
       "0.9502139125426796"
      ]
     },
     "execution_count": 41,
     "metadata": {},
     "output_type": "execute_result"
    }
   ],
   "source": [
    "a/(a+b)"
   ]
  },
  {
   "cell_type": "markdown",
   "metadata": {},
   "source": [
    "### The baseline performance by predicting Funded is 95.02% and the first prediction model has a 94.95% accuracy so far."
   ]
  },
  {
   "cell_type": "code",
   "execution_count": 42,
   "metadata": {
    "collapsed": false
   },
   "outputs": [
    {
     "data": {
      "text/plain": [
       "Index(['loan_amount', 'repayment_term', 'num_tags', 'sector_Agriculture',\n",
       "       'sector_Arts', 'sector_Clothing', 'sector_Construction',\n",
       "       'sector_Education', 'sector_Entertainment', 'sector_Food',\n",
       "       'sector_Health', 'sector_Housing', 'sector_Manufacturing',\n",
       "       'sector_Personal Use', 'sector_Retail', 'sector_Services',\n",
       "       'sector_Transportation', 'sector_Wholesale', 'video_present_True'],\n",
       "      dtype='object')"
      ]
     },
     "execution_count": 42,
     "metadata": {},
     "output_type": "execute_result"
    }
   ],
   "source": [
    "X_train.columns"
   ]
  },
  {
   "cell_type": "code",
   "execution_count": 43,
   "metadata": {
    "collapsed": false
   },
   "outputs": [
    {
     "data": {
      "text/plain": [
       "array([[ 0.64211845,  0.02578576,  0.16346756,  0.10573951, -1.29464613,\n",
       "         0.16427361, -0.40130701, -1.43426378, -0.78199507,  0.01063564,\n",
       "        -0.6667468 ,  0.92091569, -1.25486711,  0.39812135,  0.39576391,\n",
       "        -0.11337045,  0.46799172, -0.45328821, -3.93704313]])"
      ]
     },
     "execution_count": 43,
     "metadata": {},
     "output_type": "execute_result"
    }
   ],
   "source": [
    "model.coef_"
   ]
  },
  {
   "cell_type": "code",
   "execution_count": 44,
   "metadata": {
    "collapsed": false
   },
   "outputs": [
    {
     "data": {
      "text/html": [
       "<div>\n",
       "<table border=\"1\" class=\"dataframe\">\n",
       "  <thead>\n",
       "    <tr style=\"text-align: right;\">\n",
       "      <th></th>\n",
       "      <th>0</th>\n",
       "      <th>1</th>\n",
       "      <th>2</th>\n",
       "      <th>3</th>\n",
       "      <th>4</th>\n",
       "      <th>5</th>\n",
       "      <th>6</th>\n",
       "      <th>7</th>\n",
       "      <th>8</th>\n",
       "      <th>9</th>\n",
       "      <th>10</th>\n",
       "      <th>11</th>\n",
       "      <th>12</th>\n",
       "      <th>13</th>\n",
       "      <th>14</th>\n",
       "      <th>15</th>\n",
       "      <th>16</th>\n",
       "      <th>17</th>\n",
       "      <th>18</th>\n",
       "    </tr>\n",
       "  </thead>\n",
       "  <tbody>\n",
       "    <tr>\n",
       "      <th>0</th>\n",
       "      <td>loan_amount</td>\n",
       "      <td>repayment_term</td>\n",
       "      <td>num_tags</td>\n",
       "      <td>sector_Agriculture</td>\n",
       "      <td>sector_Arts</td>\n",
       "      <td>sector_Clothing</td>\n",
       "      <td>sector_Construction</td>\n",
       "      <td>sector_Education</td>\n",
       "      <td>sector_Entertainment</td>\n",
       "      <td>sector_Food</td>\n",
       "      <td>sector_Health</td>\n",
       "      <td>sector_Housing</td>\n",
       "      <td>sector_Manufacturing</td>\n",
       "      <td>sector_Personal Use</td>\n",
       "      <td>sector_Retail</td>\n",
       "      <td>sector_Services</td>\n",
       "      <td>sector_Transportation</td>\n",
       "      <td>sector_Wholesale</td>\n",
       "      <td>video_present_True</td>\n",
       "    </tr>\n",
       "    <tr>\n",
       "      <th>1</th>\n",
       "      <td>0.642118</td>\n",
       "      <td>0.0257858</td>\n",
       "      <td>0.163468</td>\n",
       "      <td>0.10574</td>\n",
       "      <td>-1.29465</td>\n",
       "      <td>0.164274</td>\n",
       "      <td>-0.401307</td>\n",
       "      <td>-1.43426</td>\n",
       "      <td>-0.781995</td>\n",
       "      <td>0.0106356</td>\n",
       "      <td>-0.666747</td>\n",
       "      <td>0.920916</td>\n",
       "      <td>-1.25487</td>\n",
       "      <td>0.398121</td>\n",
       "      <td>0.395764</td>\n",
       "      <td>-0.11337</td>\n",
       "      <td>0.467992</td>\n",
       "      <td>-0.453288</td>\n",
       "      <td>-3.93704</td>\n",
       "    </tr>\n",
       "  </tbody>\n",
       "</table>\n",
       "</div>"
      ],
      "text/plain": [
       "            0               1         2                   3            4   \\\n",
       "0  loan_amount  repayment_term  num_tags  sector_Agriculture  sector_Arts   \n",
       "1     0.642118       0.0257858  0.163468             0.10574     -1.29465   \n",
       "\n",
       "                5                    6                 7   \\\n",
       "0  sector_Clothing  sector_Construction  sector_Education   \n",
       "1         0.164274            -0.401307          -1.43426   \n",
       "\n",
       "                     8            9              10              11  \\\n",
       "0  sector_Entertainment  sector_Food  sector_Health  sector_Housing   \n",
       "1             -0.781995    0.0106356      -0.666747        0.920916   \n",
       "\n",
       "                     12                   13             14               15  \\\n",
       "0  sector_Manufacturing  sector_Personal Use  sector_Retail  sector_Services   \n",
       "1              -1.25487             0.398121       0.395764         -0.11337   \n",
       "\n",
       "                      16                17                  18  \n",
       "0  sector_Transportation  sector_Wholesale  video_present_True  \n",
       "1               0.467992         -0.453288            -3.93704  "
      ]
     },
     "execution_count": 44,
     "metadata": {},
     "output_type": "execute_result"
    }
   ],
   "source": [
    "df_summary = pd.DataFrame([X_train.columns, model.coef_[0]])\n",
    "df_summary"
   ]
  },
  {
   "cell_type": "code",
   "execution_count": 45,
   "metadata": {
    "collapsed": true
   },
   "outputs": [],
   "source": [
    "probs = model.predict_proba(X_test)"
   ]
  },
  {
   "cell_type": "code",
   "execution_count": 46,
   "metadata": {
    "collapsed": false
   },
   "outputs": [
    {
     "data": {
      "text/plain": [
       "array([0, 1], dtype=int32)"
      ]
     },
     "execution_count": 46,
     "metadata": {},
     "output_type": "execute_result"
    }
   ],
   "source": [
    "model.classes_"
   ]
  },
  {
   "cell_type": "code",
   "execution_count": 47,
   "metadata": {
    "collapsed": false
   },
   "outputs": [],
   "source": [
    "funded_prob = probs[:,0]\n",
    "unfunded_prob = probs[:, 1]"
   ]
  },
  {
   "cell_type": "code",
   "execution_count": 48,
   "metadata": {
    "collapsed": false
   },
   "outputs": [],
   "source": [
    "df_unfunded = pd.DataFrame(unfunded_prob)"
   ]
  },
  {
   "cell_type": "code",
   "execution_count": 49,
   "metadata": {
    "collapsed": true
   },
   "outputs": [],
   "source": [
    "df_unfunded.to_csv(\"unfunded_prob.csv\", header=False, index=False)"
   ]
  },
  {
   "cell_type": "code",
   "execution_count": 50,
   "metadata": {
    "collapsed": false
   },
   "outputs": [],
   "source": [
    "y_test.to_csv(\"ytest.csv\", header=False, index=False)"
   ]
  },
  {
   "cell_type": "code",
   "execution_count": 51,
   "metadata": {
    "collapsed": false
   },
   "outputs": [],
   "source": [
    "filename = \"unfunded_prob.csv\"\n",
    "df_unfunded_prob = pd.read_csv(filename)\n",
    "probs = np.array(df_unfunded_prob).flatten()"
   ]
  },
  {
   "cell_type": "code",
   "execution_count": 52,
   "metadata": {
    "collapsed": false
   },
   "outputs": [
    {
     "data": {
      "text/plain": [
       "array([ 0.01381024,  0.03572811,  0.05491626, ...,  0.05775964,\n",
       "        0.03277661,  0.03439567])"
      ]
     },
     "execution_count": 52,
     "metadata": {},
     "output_type": "execute_result"
    }
   ],
   "source": [
    "unfunded_prob"
   ]
  },
  {
   "cell_type": "code",
   "execution_count": 53,
   "metadata": {
    "collapsed": false
   },
   "outputs": [
    {
     "data": {
      "text/plain": [
       "<matplotlib.text.Text at 0x30a797b8>"
      ]
     },
     "execution_count": 53,
     "metadata": {},
     "output_type": "execute_result"
    },
    {
     "data": {
      "image/png": "[encoded data removed]",
      "text/plain": [
       "<matplotlib.figure.Figure at 0xc9544e0>"
      ]
     },
     "metadata": {},
     "output_type": "display_data"
    }
   ],
   "source": [
    "fpr, tpr, thresholds = skmetric.roc_curve(y_test, unfunded_prob,)\n",
    "\n",
    "plt.plot(fpr, tpr, 'k-o')\n",
    "plt.ylim(0,1.05)\n",
    "plt.yticks(np.arange(0,1.05,0.2))\n",
    "plt.title('ROC Curve')\n",
    "plt.xlabel('False Positive Rate')\n",
    "plt.ylabel('True Positive Rate')"
   ]
  },
  {
   "cell_type": "code",
   "execution_count": 54,
   "metadata": {
    "collapsed": false
   },
   "outputs": [
    {
     "data": {
      "text/plain": [
       "0.63629882413648287"
      ]
     },
     "execution_count": 54,
     "metadata": {},
     "output_type": "execute_result"
    }
   ],
   "source": [
    "skmetric.roc_auc_score(y_true=y_test==1, y_score=unfunded_prob,)"
   ]
  },
  {
   "cell_type": "code",
   "execution_count": 55,
   "metadata": {
    "collapsed": false
   },
   "outputs": [],
   "source": [
    "baseline_probs = np.zeros(probs.shape[0])"
   ]
  },
  {
   "cell_type": "code",
   "execution_count": 56,
   "metadata": {
    "collapsed": false
   },
   "outputs": [
    {
     "ename": "ValueError",
     "evalue": "Found arrays with inconsistent numbers of samples: [291707 291708]",
     "output_type": "error",
     "traceback": [
      "\u001b[1;31m---------------------------------------------------------------------------\u001b[0m",
      "\u001b[1;31mValueError\u001b[0m                                Traceback (most recent call last)",
      "\u001b[1;32m<ipython-input-56-88c4e2dff39e>\u001b[0m in \u001b[0;36m<module>\u001b[1;34m()\u001b[0m\n\u001b[1;32m----> 1\u001b[1;33m \u001b[0mfpr\u001b[0m\u001b[1;33m,\u001b[0m \u001b[0mtpr\u001b[0m\u001b[1;33m,\u001b[0m \u001b[0mthresholds\u001b[0m \u001b[1;33m=\u001b[0m \u001b[0mskmetric\u001b[0m     \u001b[1;33m.\u001b[0m\u001b[0mroc_curve\u001b[0m\u001b[1;33m(\u001b[0m\u001b[0my_test\u001b[0m\u001b[1;33m,\u001b[0m \u001b[0mbaseline_probs\u001b[0m\u001b[1;33m,\u001b[0m\u001b[1;33m)\u001b[0m\u001b[1;33m\u001b[0m\u001b[0m\n\u001b[0m\u001b[0;32m      2\u001b[0m \u001b[1;33m\u001b[0m\u001b[0m\n\u001b[0;32m      3\u001b[0m \u001b[0mplt\u001b[0m\u001b[1;33m.\u001b[0m\u001b[0mplot\u001b[0m\u001b[1;33m(\u001b[0m\u001b[0mfpr\u001b[0m\u001b[1;33m,\u001b[0m \u001b[0mtpr\u001b[0m\u001b[1;33m,\u001b[0m \u001b[1;34m'k-o'\u001b[0m\u001b[1;33m)\u001b[0m\u001b[1;33m\u001b[0m\u001b[0m\n\u001b[0;32m      4\u001b[0m \u001b[0mplt\u001b[0m\u001b[1;33m.\u001b[0m\u001b[0mylim\u001b[0m\u001b[1;33m(\u001b[0m\u001b[1;36m0\u001b[0m\u001b[1;33m,\u001b[0m\u001b[1;36m1.05\u001b[0m\u001b[1;33m)\u001b[0m\u001b[1;33m\u001b[0m\u001b[0m\n\u001b[0;32m      5\u001b[0m \u001b[0mplt\u001b[0m\u001b[1;33m.\u001b[0m\u001b[0myticks\u001b[0m\u001b[1;33m(\u001b[0m\u001b[0mnp\u001b[0m\u001b[1;33m.\u001b[0m\u001b[0marange\u001b[0m\u001b[1;33m(\u001b[0m\u001b[1;36m0\u001b[0m\u001b[1;33m,\u001b[0m\u001b[1;36m1.05\u001b[0m\u001b[1;33m,\u001b[0m\u001b[1;36m0.2\u001b[0m\u001b[1;33m)\u001b[0m\u001b[1;33m)\u001b[0m\u001b[1;33m\u001b[0m\u001b[0m\n",
      "\u001b[1;32mC:\\Users\\Karthik\\Anaconda3\\lib\\site-packages\\sklearn\\metrics\\ranking.py\u001b[0m in \u001b[0;36mroc_curve\u001b[1;34m(y_true, y_score, pos_label, sample_weight, drop_intermediate)\u001b[0m\n\u001b[0;32m    499\u001b[0m     \"\"\"\n\u001b[0;32m    500\u001b[0m     fps, tps, thresholds = _binary_clf_curve(\n\u001b[1;32m--> 501\u001b[1;33m         y_true, y_score, pos_label=pos_label, sample_weight=sample_weight)\n\u001b[0m\u001b[0;32m    502\u001b[0m \u001b[1;33m\u001b[0m\u001b[0m\n\u001b[0;32m    503\u001b[0m     \u001b[1;31m# Attempt to drop thresholds corresponding to points in between and\u001b[0m\u001b[1;33m\u001b[0m\u001b[1;33m\u001b[0m\u001b[0m\n",
      "\u001b[1;32mC:\\Users\\Karthik\\Anaconda3\\lib\\site-packages\\sklearn\\metrics\\ranking.py\u001b[0m in \u001b[0;36m_binary_clf_curve\u001b[1;34m(y_true, y_score, pos_label, sample_weight)\u001b[0m\n\u001b[0;32m    292\u001b[0m         \u001b[0mDecreasing\u001b[0m \u001b[0mscore\u001b[0m \u001b[0mvalues\u001b[0m\u001b[1;33m.\u001b[0m\u001b[1;33m\u001b[0m\u001b[0m\n\u001b[0;32m    293\u001b[0m     \"\"\"\n\u001b[1;32m--> 294\u001b[1;33m     \u001b[0mcheck_consistent_length\u001b[0m\u001b[1;33m(\u001b[0m\u001b[0my_true\u001b[0m\u001b[1;33m,\u001b[0m \u001b[0my_score\u001b[0m\u001b[1;33m)\u001b[0m\u001b[1;33m\u001b[0m\u001b[0m\n\u001b[0m\u001b[0;32m    295\u001b[0m     \u001b[0my_true\u001b[0m \u001b[1;33m=\u001b[0m \u001b[0mcolumn_or_1d\u001b[0m\u001b[1;33m(\u001b[0m\u001b[0my_true\u001b[0m\u001b[1;33m)\u001b[0m\u001b[1;33m\u001b[0m\u001b[0m\n\u001b[0;32m    296\u001b[0m     \u001b[0my_score\u001b[0m \u001b[1;33m=\u001b[0m \u001b[0mcolumn_or_1d\u001b[0m\u001b[1;33m(\u001b[0m\u001b[0my_score\u001b[0m\u001b[1;33m)\u001b[0m\u001b[1;33m\u001b[0m\u001b[0m\n",
      "\u001b[1;32mC:\\Users\\Karthik\\Anaconda3\\lib\\site-packages\\sklearn\\utils\\validation.py\u001b[0m in \u001b[0;36mcheck_consistent_length\u001b[1;34m(*arrays)\u001b[0m\n\u001b[0;32m    174\u001b[0m     \u001b[1;32mif\u001b[0m \u001b[0mlen\u001b[0m\u001b[1;33m(\u001b[0m\u001b[0muniques\u001b[0m\u001b[1;33m)\u001b[0m \u001b[1;33m>\u001b[0m \u001b[1;36m1\u001b[0m\u001b[1;33m:\u001b[0m\u001b[1;33m\u001b[0m\u001b[0m\n\u001b[0;32m    175\u001b[0m         raise ValueError(\"Found arrays with inconsistent numbers of samples: \"\n\u001b[1;32m--> 176\u001b[1;33m                          \"%s\" % str(uniques))\n\u001b[0m\u001b[0;32m    177\u001b[0m \u001b[1;33m\u001b[0m\u001b[0m\n\u001b[0;32m    178\u001b[0m \u001b[1;33m\u001b[0m\u001b[0m\n",
      "\u001b[1;31mValueError\u001b[0m: Found arrays with inconsistent numbers of samples: [291707 291708]"
     ]
    }
   ],
   "source": [
    "fpr, tpr, thresholds = skmetric \\\n",
    "    .roc_curve(y_test, baseline_probs,)\n",
    "\n",
    "plt.plot(fpr, tpr, 'k-o')\n",
    "plt.ylim(0,1.05)\n",
    "plt.yticks(np.arange(0,1.05,0.2))\n",
    "plt.title('ROC Curve of baseline')\n",
    "plt.xlabel('False Positive Rate')\n",
    "plt.ylabel('True Positive Rate')"
   ]
  },
  {
   "cell_type": "code",
   "execution_count": null,
   "metadata": {
    "collapsed": false
   },
   "outputs": [],
   "source": [
    "skmetric.roc_auc_score(y_true=y_test==True, y_score=baseline_probs,)"
   ]
  },
  {
   "cell_type": "code",
   "execution_count": null,
   "metadata": {
    "collapsed": false
   },
   "outputs": [],
   "source": [
    "precisions, recalls, thresholds = skmetric.precision_recall_curve(y_test, unfunded_prob,)\n",
    "plt.plot(recalls, precisions, 'k-o')\n",
    "plt.ylim(0,1.05)\n",
    "plt.yticks(np.arange(0,1.05,0.2))\n",
    "plt.title('Precision-Recall Curve')\n",
    "plt.xlabel('Recall')\n",
    "plt.ylabel('Precision')"
   ]
  },
  {
   "cell_type": "code",
   "execution_count": null,
   "metadata": {
    "collapsed": false
   },
   "outputs": [],
   "source": [
    "skmetric.average_precision_score(y_true=(y_test==1), y_score=unfunded_prob,)"
   ]
  },
  {
   "cell_type": "code",
   "execution_count": null,
   "metadata": {
    "collapsed": false
   },
   "outputs": [],
   "source": [
    "precisions, recalls, thresholds = skmetric.precision_recall_curve(y_test, baseline_probs,)\n",
    "plt.plot(recalls, precisions, 'k-o')\n",
    "plt.ylim(0,1.05)\n",
    "plt.yticks(np.arange(0,1.05,0.2))\n",
    "plt.title('Precision-Recall Curve')\n",
    "plt.xlabel('Recall')\n",
    "plt.ylabel('Precision')"
   ]
  },
  {
   "cell_type": "code",
   "execution_count": null,
   "metadata": {
    "collapsed": false
   },
   "outputs": [],
   "source": [
    "skmetric.average_precision_score(y_true=(y_test==1), y_score=baseline_probs,)"
   ]
  }
 ],
 "metadata": {
  "kernelspec": {
   "display_name": "Python 3",
   "language": "python",
   "name": "python3"
  },
  "language_info": {
   "codemirror_mode": {
    "name": "ipython",
    "version": 3
   },
   "file_extension": ".py",
   "mimetype": "text/x-python",
   "name": "python",
   "nbconvert_exporter": "python",
   "pygments_lexer": "ipython3",
   "version": "3.4.4"
  }
 },
 "nbformat": 4,
 "nbformat_minor": 0
}
